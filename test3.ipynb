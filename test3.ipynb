{
 "cells": [
  {
   "cell_type": "code",
   "execution_count": 1,
   "metadata": {
    "collapsed": true,
    "ExecuteTime": {
     "end_time": "2024-02-29T09:51:54.312495700Z",
     "start_time": "2024-02-29T09:51:52.902057300Z"
    }
   },
   "outputs": [],
   "source": [
    "import logging\n",
    "import argparse\n",
    "import sys\n",
    "import asyncio\n",
    "import numpy as np\n",
    "import torch\n",
    "import torch.nn as nn\n",
    "import torch.nn.functional as F\n",
    "from datetime import datetime\n",
    "import matplotlib.pyplot as plt\n",
    "import pandas as pd\n",
    "import os\n",
    "\n",
    "import syft as sy\n",
    "from syft.workers import websocket_client\n",
    "from syft.workers.websocket_client import WebsocketClientWorker\n",
    "from syft.frameworks.torch.fl import utils\n",
    "from my_utils import MyWebsocketClientWorker, model_to_device\n",
    "import my_utils\n",
    "\n",
    "LOG_INTERVAL = 25\n",
    "logger = logging.getLogger(\"run_websocket_client\")\n",
    "# loss = nn.CrossEntropyLoss()"
   ]
  },
  {
   "cell_type": "code",
   "execution_count": 2,
   "outputs": [],
   "source": [
    "import run_websocket_client\n",
    "\n",
    "hook = sy.TorchHook(torch)\n",
    "jetson_nano = {\"host\": \"192.168.3.5\", \"hook\": hook}\n",
    "worker_a = MyWebsocketClientWorker(id='A', port=9292, **jetson_nano)\n",
    "worker_a.clear_objects_remote()"
   ],
   "metadata": {
    "collapsed": false,
    "ExecuteTime": {
     "end_time": "2024-02-29T09:51:54.699372800Z",
     "start_time": "2024-02-29T09:51:54.314002200Z"
    }
   }
  },
  {
   "cell_type": "code",
   "execution_count": 3,
   "outputs": [],
   "source": [
    "model_1 = run_websocket_client.ConvNet1D(input_size=400, num_classes=7)\n",
    "traced_model_1 = torch.jit.trace(model_1, torch.zeros([1, 400, 3], dtype=torch.float))\n",
    "model_2 = run_websocket_client.ConvNet1D(input_size=400, num_classes=7)\n",
    "traced_model_2 = torch.jit.trace(model_2, torch.zeros([1, 400, 3], dtype=torch.float))"
   ],
   "metadata": {
    "collapsed": false,
    "ExecuteTime": {
     "end_time": "2024-02-29T09:51:54.775549600Z",
     "start_time": "2024-02-29T09:51:54.702373100Z"
    }
   }
  },
  {
   "cell_type": "code",
   "execution_count": 4,
   "outputs": [
    {
     "data": {
      "text/plain": "(tensor([ 0.3322,  0.2962, -0.0353]), tensor([ 0.1603, -0.2100, -0.2958]))"
     },
     "execution_count": 4,
     "metadata": {},
     "output_type": "execute_result"
    }
   ],
   "source": [
    "traced_model_1.conv1.weight.data[0, 0, :], traced_model_2.conv1.weight.data[0, 0, :]"
   ],
   "metadata": {
    "collapsed": false,
    "ExecuteTime": {
     "end_time": "2024-02-29T09:51:54.787082100Z",
     "start_time": "2024-02-29T09:51:54.776551900Z"
    }
   }
  },
  {
   "cell_type": "code",
   "execution_count": 5,
   "outputs": [
    {
     "data": {
      "text/plain": "tensor([ 0.2462,  0.0431, -0.1656])"
     },
     "execution_count": 5,
     "metadata": {},
     "output_type": "execute_result"
    }
   ],
   "source": [
    "(traced_model_1.conv1.weight.data[0, 0, :] + traced_model_2.conv1.weight.data[0, 0, :])/2"
   ],
   "metadata": {
    "collapsed": false,
    "ExecuteTime": {
     "end_time": "2024-02-29T09:51:54.795139300Z",
     "start_time": "2024-02-29T09:51:54.787082100Z"
    }
   }
  },
  {
   "cell_type": "markdown",
   "source": [],
   "metadata": {
    "collapsed": false
   }
  },
  {
   "cell_type": "code",
   "execution_count": 6,
   "outputs": [],
   "source": [
    "model_dict = {'a': traced_model_1, 'b': traced_model_2}"
   ],
   "metadata": {
    "collapsed": false,
    "ExecuteTime": {
     "end_time": "2024-02-29T09:51:54.868757Z",
     "start_time": "2024-02-29T09:51:54.794121900Z"
    }
   }
  },
  {
   "cell_type": "code",
   "execution_count": 7,
   "outputs": [],
   "source": [
    "federated_model = run_websocket_client.ConvNet1D(input_size=400, num_classes=7)\n",
    "traced_model = torch.jit.trace(federated_model, torch.zeros([1, 400, 3], dtype=torch.float))"
   ],
   "metadata": {
    "collapsed": false,
    "ExecuteTime": {
     "end_time": "2024-02-29T09:51:54.869757200Z",
     "start_time": "2024-02-29T09:51:54.798141700Z"
    }
   }
  },
  {
   "cell_type": "code",
   "execution_count": 8,
   "outputs": [],
   "source": [
    "aggregate_config = my_utils.AggregatedConfig(\n",
    "    model_dict=model_dict,\n",
    "    federated_model=traced_model\n",
    ")"
   ],
   "metadata": {
    "collapsed": false,
    "ExecuteTime": {
     "end_time": "2024-02-29T09:51:54.870757100Z",
     "start_time": "2024-02-29T09:51:54.835217Z"
    }
   }
  },
  {
   "cell_type": "code",
   "execution_count": 9,
   "outputs": [
    {
     "data": {
      "text/plain": "<MyWebsocketClientWorker id:A #objects local:0 #objects remote: 0>"
     },
     "execution_count": 9,
     "metadata": {},
     "output_type": "execute_result"
    }
   ],
   "source": [
    "worker_a"
   ],
   "metadata": {
    "collapsed": false,
    "ExecuteTime": {
     "end_time": "2024-02-29T09:51:54.871757700Z",
     "start_time": "2024-02-29T09:51:54.841219400Z"
    }
   }
  },
  {
   "cell_type": "code",
   "execution_count": 10,
   "outputs": [],
   "source": [
    "aggregate_config.send_model(worker_a)"
   ],
   "metadata": {
    "collapsed": false,
    "ExecuteTime": {
     "end_time": "2024-02-29T09:51:57.101064700Z",
     "start_time": "2024-02-29T09:51:54.858250Z"
    }
   }
  },
  {
   "cell_type": "code",
   "execution_count": 11,
   "outputs": [
    {
     "data": {
      "text/plain": "<MyWebsocketClientWorker id:A #objects local:0 #objects remote: 3>"
     },
     "execution_count": 11,
     "metadata": {},
     "output_type": "execute_result"
    }
   ],
   "source": [
    "worker_a"
   ],
   "metadata": {
    "collapsed": false,
    "ExecuteTime": {
     "end_time": "2024-02-29T09:51:57.120151800Z",
     "start_time": "2024-02-29T09:51:57.096033300Z"
    }
   }
  },
  {
   "cell_type": "code",
   "execution_count": 12,
   "outputs": [],
   "source": [
    "aggregate_config_tuple = aggregate_config.simplify(aggregate_config.owner, aggregate_config)"
   ],
   "metadata": {
    "collapsed": false,
    "ExecuteTime": {
     "end_time": "2024-02-29T09:51:57.121160400Z",
     "start_time": "2024-02-29T09:51:57.112587100Z"
    }
   }
  },
  {
   "cell_type": "code",
   "execution_count": 13,
   "outputs": [
    {
     "data": {
      "text/plain": "{'ID': 84767216257,\n 'model_id_list': (1, (10364018464, 50439197396)),\n 'federated_model_id': 8536554964}"
     },
     "execution_count": 13,
     "metadata": {},
     "output_type": "execute_result"
    }
   ],
   "source": [
    "aggregate_config_tuple"
   ],
   "metadata": {
    "collapsed": false,
    "ExecuteTime": {
     "end_time": "2024-02-29T09:51:57.121160400Z",
     "start_time": "2024-02-29T09:51:57.116148500Z"
    }
   }
  },
  {
   "cell_type": "code",
   "execution_count": 14,
   "outputs": [],
   "source": [
    "ptr, ID = aggregate_config._wrap_and_send_obj(aggregate_config_tuple, worker_a)"
   ],
   "metadata": {
    "collapsed": false,
    "ExecuteTime": {
     "end_time": "2024-02-29T09:51:57.165817500Z",
     "start_time": "2024-02-29T09:51:57.122150900Z"
    }
   }
  },
  {
   "cell_type": "code",
   "execution_count": 15,
   "outputs": [
    {
     "data": {
      "text/plain": "<MyWebsocketClientWorker id:A #objects local:0 #objects remote: 4>"
     },
     "execution_count": 15,
     "metadata": {},
     "output_type": "execute_result"
    }
   ],
   "source": [
    "worker_a"
   ],
   "metadata": {
    "collapsed": false,
    "ExecuteTime": {
     "end_time": "2024-02-29T09:51:57.183441100Z",
     "start_time": "2024-02-29T09:51:57.131662Z"
    }
   }
  },
  {
   "cell_type": "code",
   "execution_count": 16,
   "outputs": [
    {
     "data": {
      "text/plain": "([CallablePointer | me:9737995215 -> A:63699163400], 63699163400)"
     },
     "execution_count": 16,
     "metadata": {},
     "output_type": "execute_result"
    }
   ],
   "source": [
    "ptr, ID"
   ],
   "metadata": {
    "collapsed": false,
    "ExecuteTime": {
     "end_time": "2024-02-29T09:51:57.184440300Z",
     "start_time": "2024-02-29T09:51:57.154286800Z"
    }
   }
  },
  {
   "cell_type": "code",
   "execution_count": 17,
   "outputs": [],
   "source": [
    "# aggregate_config.detail(worker_a, aggregate_config_tuple)"
   ],
   "metadata": {
    "collapsed": false,
    "ExecuteTime": {
     "end_time": "2024-02-29T09:51:57.184963400Z",
     "start_time": "2024-02-29T09:51:57.158289100Z"
    }
   }
  },
  {
   "cell_type": "code",
   "execution_count": 18,
   "outputs": [],
   "source": [
    "worker_a._send_msg_and_deserialize(\"set_aggregate_config\", ID=ID)"
   ],
   "metadata": {
    "collapsed": false,
    "ExecuteTime": {
     "end_time": "2024-02-29T09:51:57.184963400Z",
     "start_time": "2024-02-29T09:51:57.162300800Z"
    }
   }
  },
  {
   "cell_type": "code",
   "execution_count": 19,
   "outputs": [],
   "source": [
    "worker_a._send_msg_and_deserialize(\"_check_aggregate_config\")"
   ],
   "metadata": {
    "collapsed": false,
    "ExecuteTime": {
     "end_time": "2024-02-29T09:51:57.184963400Z",
     "start_time": "2024-02-29T09:51:57.177456300Z"
    }
   }
  },
  {
   "cell_type": "code",
   "execution_count": 20,
   "outputs": [],
   "source": [
    "worker_a._send_msg_and_deserialize(\"model_aggregation\")"
   ],
   "metadata": {
    "collapsed": false,
    "ExecuteTime": {
     "end_time": "2024-02-29T09:51:57.642127500Z",
     "start_time": "2024-02-29T09:51:57.181441100Z"
    }
   }
  },
  {
   "cell_type": "code",
   "execution_count": 21,
   "outputs": [],
   "source": [
    "model = aggregate_config.get(aggregate_config_tuple['federated_model_id'], worker_a).obj"
   ],
   "metadata": {
    "collapsed": false,
    "ExecuteTime": {
     "end_time": "2024-02-29T09:52:02.144164400Z",
     "start_time": "2024-02-29T09:51:57.643045600Z"
    }
   }
  },
  {
   "cell_type": "code",
   "execution_count": 22,
   "outputs": [],
   "source": [
    "new_model = my_utils.model_to_device(model, 'cpu')"
   ],
   "metadata": {
    "collapsed": false,
    "ExecuteTime": {
     "end_time": "2024-02-29T09:52:02.184262100Z",
     "start_time": "2024-02-29T09:52:02.144164400Z"
    }
   }
  },
  {
   "cell_type": "code",
   "execution_count": 26,
   "outputs": [
    {
     "data": {
      "text/plain": "tensor([ 0.2462,  0.0431, -0.1656], grad_fn=<SliceBackward>)"
     },
     "execution_count": 26,
     "metadata": {},
     "output_type": "execute_result"
    }
   ],
   "source": [
    "new_model.conv1.weight[0, 0, :]"
   ],
   "metadata": {
    "collapsed": false,
    "ExecuteTime": {
     "end_time": "2024-02-29T09:53:47.909262800Z",
     "start_time": "2024-02-29T09:53:47.903705700Z"
    }
   }
  },
  {
   "cell_type": "code",
   "execution_count": 27,
   "outputs": [
    {
     "data": {
      "text/plain": "ConvNet1D(\n  original_name=ConvNet1D\n  (conv1): Conv1d(original_name=Conv1d)\n  (pool): MaxPool1d(original_name=MaxPool1d)\n  (fc1): Linear(original_name=Linear)\n  (fc2): Linear(original_name=Linear)\n)"
     },
     "execution_count": 27,
     "metadata": {},
     "output_type": "execute_result"
    }
   ],
   "source": [
    "new_model"
   ],
   "metadata": {
    "collapsed": false,
    "ExecuteTime": {
     "end_time": "2024-02-29T09:53:53.638506700Z",
     "start_time": "2024-02-29T09:53:53.632983Z"
    }
   }
  },
  {
   "cell_type": "code",
   "execution_count": null,
   "outputs": [],
   "source": [],
   "metadata": {
    "collapsed": false
   }
  }
 ],
 "metadata": {
  "kernelspec": {
   "display_name": "Python 3",
   "language": "python",
   "name": "python3"
  },
  "language_info": {
   "codemirror_mode": {
    "name": "ipython",
    "version": 2
   },
   "file_extension": ".py",
   "mimetype": "text/x-python",
   "name": "python",
   "nbconvert_exporter": "python",
   "pygments_lexer": "ipython2",
   "version": "2.7.6"
  }
 },
 "nbformat": 4,
 "nbformat_minor": 0
}
