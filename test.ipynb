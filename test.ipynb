{
 "cells": [
  {
   "cell_type": "code",
   "execution_count": 1,
   "metadata": {
    "collapsed": true,
    "ExecuteTime": {
     "end_time": "2024-02-21T13:56:54.037237200Z",
     "start_time": "2024-02-21T13:56:52.691694600Z"
    }
   },
   "outputs": [],
   "source": [
    "import logging\n",
    "import argparse\n",
    "import sys\n",
    "import asyncio\n",
    "import numpy as np\n",
    "import torch\n",
    "import torch.nn as nn\n",
    "import torch.nn.functional as F\n",
    "from datetime import datetime\n",
    "import matplotlib.pyplot as plt\n",
    "import pandas as pd\n",
    "import os\n",
    "\n",
    "import syft as sy\n",
    "from syft.workers import websocket_client\n",
    "from syft.workers.websocket_client import WebsocketClientWorker\n",
    "from syft.frameworks.torch.fl import utils\n",
    "from my_utils import MyWebsocketClientWorker\n",
    "\n",
    "LOG_INTERVAL = 25\n",
    "logger = logging.getLogger(\"run_websocket_client\")\n",
    "# loss = nn.CrossEntropyLoss()"
   ]
  },
  {
   "cell_type": "code",
   "execution_count": 2,
   "outputs": [],
   "source": [
    "import run_websocket_client"
   ],
   "metadata": {
    "collapsed": false,
    "ExecuteTime": {
     "end_time": "2024-02-21T13:56:54.083448200Z",
     "start_time": "2024-02-21T13:56:54.038237300Z"
    }
   }
  },
  {
   "cell_type": "code",
   "execution_count": 3,
   "outputs": [],
   "source": [
    "hook = sy.TorchHook(torch)"
   ],
   "metadata": {
    "collapsed": false,
    "ExecuteTime": {
     "end_time": "2024-02-21T13:56:54.392673700Z",
     "start_time": "2024-02-21T13:56:54.085560600Z"
    }
   }
  },
  {
   "cell_type": "code",
   "execution_count": 4,
   "outputs": [],
   "source": [
    "raspi = {\"host\": \"192.168.3.4\", \"hook\": hook}\n",
    "jetson_nano = {\"host\": \"192.168.3.5\", \"hook\": hook}"
   ],
   "metadata": {
    "collapsed": false,
    "ExecuteTime": {
     "end_time": "2024-02-21T13:56:54.392673700Z",
     "start_time": "2024-02-21T13:56:54.389673900Z"
    }
   }
  },
  {
   "cell_type": "code",
   "execution_count": 5,
   "outputs": [],
   "source": [
    "worker_a = MyWebsocketClientWorker(id='A', port=9292, **jetson_nano)"
   ],
   "metadata": {
    "collapsed": false,
    "ExecuteTime": {
     "end_time": "2024-02-21T13:56:54.426573700Z",
     "start_time": "2024-02-21T13:56:54.394180700Z"
    }
   }
  },
  {
   "cell_type": "code",
   "execution_count": 6,
   "outputs": [],
   "source": [
    "worker_b = MyWebsocketClientWorker(id='B', port=9292, **raspi)"
   ],
   "metadata": {
    "collapsed": false,
    "ExecuteTime": {
     "end_time": "2024-02-21T13:56:54.452160900Z",
     "start_time": "2024-02-21T13:56:54.427573600Z"
    }
   }
  },
  {
   "cell_type": "code",
   "execution_count": 7,
   "outputs": [],
   "source": [
    "worker_instances = [worker_a, worker_b]\n",
    "client_devices = ['cuda', 'cpu']"
   ],
   "metadata": {
    "collapsed": false,
    "ExecuteTime": {
     "end_time": "2024-02-21T13:56:54.457687600Z",
     "start_time": "2024-02-21T13:56:54.449673200Z"
    }
   }
  },
  {
   "cell_type": "code",
   "execution_count": 8,
   "outputs": [],
   "source": [
    "for worker in worker_instances:\n",
    "    worker.clear_objects_remote()"
   ],
   "metadata": {
    "collapsed": false,
    "ExecuteTime": {
     "end_time": "2024-02-21T13:56:54.469696Z",
     "start_time": "2024-02-21T13:56:54.453666900Z"
    }
   }
  },
  {
   "cell_type": "code",
   "execution_count": 9,
   "outputs": [],
   "source": [
    "model = run_websocket_client.ConvNet1D(input_size=400, num_classes=7)"
   ],
   "metadata": {
    "collapsed": false,
    "ExecuteTime": {
     "end_time": "2024-02-21T13:56:54.478246800Z",
     "start_time": "2024-02-21T13:56:54.470696800Z"
    }
   }
  },
  {
   "cell_type": "code",
   "execution_count": 10,
   "outputs": [],
   "source": [
    "traced_model = torch.jit.trace(model, torch.zeros([1, 400, 3], dtype=torch.float))"
   ],
   "metadata": {
    "collapsed": false,
    "ExecuteTime": {
     "end_time": "2024-02-21T13:56:54.514443400Z",
     "start_time": "2024-02-21T13:56:54.480246500Z"
    }
   }
  },
  {
   "cell_type": "code",
   "execution_count": 11,
   "outputs": [
    {
     "name": "stdout",
     "output_type": "stream",
     "text": [
      "User-A Training start time: 2024-02-21 21:56:54.518450\n",
      "User-B Training start time: 2024-02-21 21:56:55.440020\n",
      "User-A Training end time: 2024-02-21 21:57:03.925978\n",
      "User-B Training end time: 2024-02-21 21:57:07.674353\n",
      "[('A', RecursiveScriptModule(\n",
      "  original_name=Module\n",
      "  (conv1): RecursiveScriptModule(original_name=Module)\n",
      "  (pool): RecursiveScriptModule(original_name=Module)\n",
      "  (fc1): RecursiveScriptModule(original_name=Module)\n",
      "  (fc2): RecursiveScriptModule(original_name=Module)\n",
      "), tensor(1.9069, requires_grad=True), 9.407528), ('B', RecursiveScriptModule(\n",
      "  original_name=Module\n",
      "  (conv1): RecursiveScriptModule(original_name=Module)\n",
      "  (pool): RecursiveScriptModule(original_name=Module)\n",
      "  (fc1): RecursiveScriptModule(original_name=Module)\n",
      "  (fc2): RecursiveScriptModule(original_name=Module)\n",
      "), tensor(1.9021, requires_grad=True), 12.234333)]\n",
      "User-A Training start time: 2024-02-21 21:57:07.675370\n",
      "User-B Training start time: 2024-02-21 21:57:08.470950\n",
      "User-A Training end time: 2024-02-21 21:57:16.975183\n",
      "User-B Training end time: 2024-02-21 21:57:20.709502\n",
      "User-A Training start time: 2024-02-21 21:57:20.710503\n",
      "User-B Training start time: 2024-02-21 21:57:21.491823\n",
      "User-A Training end time: 2024-02-21 21:57:29.488273\n",
      "User-B Training end time: 2024-02-21 21:57:33.187052\n",
      "User-A Training start time: 2024-02-21 21:57:33.188052\n",
      "User-B Training start time: 2024-02-21 21:57:33.993824\n",
      "User-A Training end time: 2024-02-21 21:57:41.969183\n",
      "User-B Training end time: 2024-02-21 21:57:45.666907\n",
      "User-A Training start time: 2024-02-21 21:57:45.667901\n",
      "User-B Training start time: 2024-02-21 21:57:46.508017\n",
      "User-A Training end time: 2024-02-21 21:57:55.023502\n",
      "User-B Training end time: 2024-02-21 21:57:58.843620\n",
      "[('A', RecursiveScriptModule(\n",
      "  original_name=Module\n",
      "  (conv1): RecursiveScriptModule(original_name=Module)\n",
      "  (pool): RecursiveScriptModule(original_name=Module)\n",
      "  (fc1): RecursiveScriptModule(original_name=Module)\n",
      "  (fc2): RecursiveScriptModule(original_name=Module)\n",
      "), tensor(1.8994, requires_grad=True), 9.355601), ('B', RecursiveScriptModule(\n",
      "  original_name=Module\n",
      "  (conv1): RecursiveScriptModule(original_name=Module)\n",
      "  (pool): RecursiveScriptModule(original_name=Module)\n",
      "  (fc1): RecursiveScriptModule(original_name=Module)\n",
      "  (fc2): RecursiveScriptModule(original_name=Module)\n",
      "), tensor(1.9193, requires_grad=True), 12.335603)]\n"
     ]
    }
   ],
   "source": [
    "test_num = 5\n",
    "for curr_round in range(1, 5+1):\n",
    "    results = await asyncio.gather(\n",
    "            *[\n",
    "                run_websocket_client.fit_model_on_worker(\n",
    "                    worker=worker,\n",
    "                    traced_model=traced_model,\n",
    "                    batch_size=16,\n",
    "                    curr_round=curr_round,\n",
    "                    max_nr_batches=10,\n",
    "                    lr=0.0001,\n",
    "                    device=client_device\n",
    "                )\n",
    "                for worker, client_device in zip(worker_instances, client_devices)\n",
    "            ]\n",
    "        )\n",
    "\n",
    "    test_models = curr_round % test_num == 0 or curr_round == 1\n",
    "    if test_models:\n",
    "        print(results)"
   ],
   "metadata": {
    "collapsed": false,
    "ExecuteTime": {
     "end_time": "2024-02-21T13:57:58.850630800Z",
     "start_time": "2024-02-21T13:56:54.517444800Z"
    }
   }
  },
  {
   "cell_type": "code",
   "execution_count": 11,
   "outputs": [],
   "source": [],
   "metadata": {
    "collapsed": false,
    "ExecuteTime": {
     "end_time": "2024-02-21T13:57:58.851620200Z",
     "start_time": "2024-02-21T13:57:58.849619900Z"
    }
   }
  }
 ],
 "metadata": {
  "kernelspec": {
   "display_name": "Python 3",
   "language": "python",
   "name": "python3"
  },
  "language_info": {
   "codemirror_mode": {
    "name": "ipython",
    "version": 2
   },
   "file_extension": ".py",
   "mimetype": "text/x-python",
   "name": "python",
   "nbconvert_exporter": "python",
   "pygments_lexer": "ipython2",
   "version": "2.7.6"
  }
 },
 "nbformat": 4,
 "nbformat_minor": 0
}
