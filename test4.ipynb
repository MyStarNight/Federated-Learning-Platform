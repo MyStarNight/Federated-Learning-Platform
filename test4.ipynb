{
 "cells": [
  {
   "cell_type": "code",
   "execution_count": 1,
   "metadata": {
    "collapsed": true,
    "ExecuteTime": {
     "end_time": "2024-02-29T10:35:58.837825200Z",
     "start_time": "2024-02-29T10:35:57.545466500Z"
    }
   },
   "outputs": [],
   "source": [
    "import logging\n",
    "import argparse\n",
    "import sys\n",
    "import asyncio\n",
    "import numpy as np\n",
    "import torch\n",
    "import torch.nn as nn\n",
    "import torch.nn.functional as F\n",
    "from datetime import datetime\n",
    "import matplotlib.pyplot as plt\n",
    "import pandas as pd\n",
    "import os\n",
    "\n",
    "import syft as sy\n",
    "from syft.workers import websocket_client\n",
    "from syft.workers.websocket_client import WebsocketClientWorker\n",
    "from syft.frameworks.torch.fl import utils\n",
    "from my_utils import MyWebsocketClientWorker, model_to_device\n",
    "import my_utils\n",
    "\n",
    "LOG_INTERVAL = 25\n",
    "logger = logging.getLogger(\"run_websocket_client\")\n",
    "# loss = nn.CrossEntropyLoss()"
   ]
  },
  {
   "cell_type": "code",
   "execution_count": 2,
   "outputs": [],
   "source": [
    "import run_websocket_client\n",
    "\n",
    "hook = sy.TorchHook(torch)\n",
    "jetson_nano = {\"host\": \"192.168.3.5\", \"hook\": hook}\n",
    "worker_a = MyWebsocketClientWorker(id='A', port=9292, **jetson_nano)\n",
    "worker_a.clear_objects_remote()"
   ],
   "metadata": {
    "collapsed": false,
    "ExecuteTime": {
     "end_time": "2024-02-29T10:36:12.618855300Z",
     "start_time": "2024-02-29T10:36:12.212449300Z"
    }
   }
  },
  {
   "cell_type": "code",
   "execution_count": 3,
   "outputs": [],
   "source": [
    "model_1 = run_websocket_client.ConvNet1D(input_size=400, num_classes=7)\n",
    "traced_model_1 = torch.jit.trace(model_1, torch.zeros([1, 400, 3], dtype=torch.float))\n",
    "model_2 = run_websocket_client.ConvNet1D(input_size=400, num_classes=7)\n",
    "traced_model_2 = torch.jit.trace(model_2, torch.zeros([1, 400, 3], dtype=torch.float))"
   ],
   "metadata": {
    "collapsed": false,
    "ExecuteTime": {
     "end_time": "2024-02-29T10:36:20.977608600Z",
     "start_time": "2024-02-29T10:36:20.901408100Z"
    }
   }
  },
  {
   "cell_type": "code",
   "execution_count": 4,
   "outputs": [
    {
     "data": {
      "text/plain": "(tensor([-0.2016, -0.0483,  0.1988]), tensor([-0.1480, -0.0651,  0.0795]))"
     },
     "execution_count": 4,
     "metadata": {},
     "output_type": "execute_result"
    }
   ],
   "source": [
    "traced_model_1.conv1.weight.data[0, 0, :], traced_model_2.conv1.weight.data[0, 0, :]"
   ],
   "metadata": {
    "collapsed": false,
    "ExecuteTime": {
     "end_time": "2024-02-29T10:36:35.498123Z",
     "start_time": "2024-02-29T10:36:35.485449100Z"
    }
   }
  },
  {
   "cell_type": "code",
   "execution_count": 5,
   "outputs": [
    {
     "data": {
      "text/plain": "tensor([-0.1748, -0.0567,  0.1391])"
     },
     "execution_count": 5,
     "metadata": {},
     "output_type": "execute_result"
    }
   ],
   "source": [
    "(traced_model_1.conv1.weight.data[0, 0, :] + traced_model_2.conv1.weight.data[0, 0, :])/2"
   ],
   "metadata": {
    "collapsed": false,
    "ExecuteTime": {
     "end_time": "2024-02-29T10:36:41.564675700Z",
     "start_time": "2024-02-29T10:36:41.560674400Z"
    }
   }
  },
  {
   "cell_type": "code",
   "execution_count": 6,
   "outputs": [],
   "source": [
    "model_dict = {'a': traced_model_1, 'b': traced_model_2}"
   ],
   "metadata": {
    "collapsed": false,
    "ExecuteTime": {
     "end_time": "2024-02-29T10:36:52.449390700Z",
     "start_time": "2024-02-29T10:36:52.445669200Z"
    }
   }
  },
  {
   "cell_type": "code",
   "execution_count": 7,
   "outputs": [],
   "source": [
    "result_model = run_websocket_client.aggregate(model_dict, worker_a)"
   ],
   "metadata": {
    "collapsed": false,
    "ExecuteTime": {
     "end_time": "2024-02-29T10:37:34.983892300Z",
     "start_time": "2024-02-29T10:37:28.211947900Z"
    }
   }
  },
  {
   "cell_type": "code",
   "execution_count": 10,
   "outputs": [
    {
     "data": {
      "text/plain": "tensor([-0.1748, -0.0567,  0.1391])"
     },
     "execution_count": 10,
     "metadata": {},
     "output_type": "execute_result"
    }
   ],
   "source": [
    "result_model.conv1.weight.data[0, 0, :]"
   ],
   "metadata": {
    "collapsed": false,
    "ExecuteTime": {
     "end_time": "2024-02-29T10:38:22.324629800Z",
     "start_time": "2024-02-29T10:38:22.316096100Z"
    }
   }
  },
  {
   "cell_type": "code",
   "execution_count": null,
   "outputs": [],
   "source": [],
   "metadata": {
    "collapsed": false
   }
  }
 ],
 "metadata": {
  "kernelspec": {
   "display_name": "Python 3",
   "language": "python",
   "name": "python3"
  },
  "language_info": {
   "codemirror_mode": {
    "name": "ipython",
    "version": 2
   },
   "file_extension": ".py",
   "mimetype": "text/x-python",
   "name": "python",
   "nbconvert_exporter": "python",
   "pygments_lexer": "ipython2",
   "version": "2.7.6"
  }
 },
 "nbformat": 4,
 "nbformat_minor": 0
}
