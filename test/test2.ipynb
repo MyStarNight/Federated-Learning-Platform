{
 "cells": [
  {
   "cell_type": "code",
   "execution_count": 1,
   "metadata": {
    "collapsed": true
   },
   "outputs": [],
   "source": [
    "import test2\n",
    "import my_utils\n",
    "import torch\n",
    "import run_websocket_client\n",
    "import asyncio\n",
    "import syft as sy\n",
    "from syft.workers.virtual import VirtualWorker\n",
    "from datetime import datetime\n",
    "from syft.workers.websocket_client import WebsocketClientWorker\n",
    "from syft.generic.pointers.object_wrapper import ObjectWrapper\n",
    "from syft.messaging.message import ObjectMessage"
   ]
  },
  {
   "cell_type": "code",
   "execution_count": 2,
   "outputs": [],
   "source": [
    "hook = sy.TorchHook(torch)\n",
    "\n",
    "model = my_utils.ConvNet1D(input_size=400, num_classes=7)\n",
    "traced_model = torch.jit.trace(model, torch.zeros([1, 400, 3], dtype=torch.float))\n",
    "train_config = test2.MyTrainConfig(\n",
    "    model=traced_model,\n",
    "    loss_fn=run_websocket_client.loss_fn,\n",
    "    batch_size=32,\n",
    "    shuffle=True,\n",
    "    epochs=5,\n",
    "    optimizer='SGD'\n",
    ")"
   ],
   "metadata": {
    "collapsed": false
   }
  },
  {
   "cell_type": "code",
   "execution_count": 3,
   "outputs": [],
   "source": [
    "worker_a = my_utils.MyWebsocketClientWorker(hook=hook, host='192.168.3.5', port=9292, id=\"AA\")\n",
    "worker_b = my_utils.MyWebsocketClientWorker(hook=hook, host='192.168.3.6', port=9292, id=\"BB\")\n",
    "worker_c = my_utils.MyWebsocketClientWorker(hook=hook, host='192.168.3.9', port=9292, id=\"CC\")\n",
    "worker_d = my_utils.MyWebsocketClientWorker(hook=hook, host='192.168.3.15', port=9292, id=\"DD\")\n",
    "worker_e = my_utils.MyWebsocketClientWorker(hook=hook, host='192.168.3.16', port=9292, id=\"EE\")\n",
    "\n",
    "worker_list = [worker_a, worker_b, worker_c, worker_d, worker_e]"
   ],
   "metadata": {
    "collapsed": false
   }
  },
  {
   "cell_type": "code",
   "execution_count": 4,
   "outputs": [],
   "source": [
    "for worker in worker_list:\n",
    "    worker.clear_objects_remote()"
   ],
   "metadata": {
    "collapsed": false
   }
  },
  {
   "cell_type": "code",
   "execution_count": 5,
   "outputs": [],
   "source": [
    "async def main():\n",
    "    start = datetime.now()\n",
    "    await asyncio.gather(\n",
    "        *[\n",
    "            train_config.async_wrap_and_send(traced_model, worker)\n",
    "            for worker in worker_list\n",
    "        ]\n",
    "    )\n",
    "    print(f'{(datetime.now()-start).total_seconds()}')\n",
    "\n",
    "def send_one_by_one():\n",
    "    start = datetime.now()\n",
    "    for worker in worker_list:\n",
    "        obj_id = sy.ID_PROVIDER.pop()\n",
    "        print(worker.id, obj_id)\n",
    "        obj_with_id = ObjectWrapper(id=obj_id, obj=traced_model)\n",
    "        print(f\"User-{worker.id} sending start:{datetime.now()}\")\n",
    "        train_config.owner.send(obj_with_id, worker)\n",
    "        print(f\"User-{worker.id} sending end:{datetime.now()}\")\n",
    "    print(f\"{(datetime.now()-start).total_seconds()}\")"
   ],
   "metadata": {
    "collapsed": false
   }
  },
  {
   "cell_type": "code",
   "execution_count": 6,
   "outputs": [
    {
     "name": "stdout",
     "output_type": "stream",
     "text": [
      "DD 12525256734\n",
      "User-DD sending start:2024-04-29 15:18:04.095944\n",
      "User-DD sending end:2024-04-29 15:18:05.068342\n",
      "BB 92359900092\n",
      "User-BB sending start:2024-04-29 15:18:05.098518\n",
      "User-BB sending end:2024-04-29 15:18:06.066663\n",
      "EE 37107498580\n",
      "User-EE sending start:2024-04-29 15:18:06.097061\n",
      "User-EE sending end:2024-04-29 15:18:07.069747\n",
      "AA 16798777998\n",
      "User-AA sending start:2024-04-29 15:18:07.099349\n",
      "User-AA sending end:2024-04-29 15:18:08.081867\n",
      "CC 98440769202\n",
      "User-CC sending start:2024-04-29 15:18:08.112037\n",
      "User-CC sending end:2024-04-29 15:18:09.100431\n",
      "User-BB receive:2024-04-29 15:18:09.101938\n",
      "User-EE receive:2024-04-29 15:18:09.101938\n",
      "User-AA receive:2024-04-29 15:18:09.101938\n",
      "User-DD receive:2024-04-29 15:18:09.101938\n",
      "User-CC receive:2024-04-29 15:18:09.691032\n",
      "5.68475\n"
     ]
    }
   ],
   "source": [
    "await main()"
   ],
   "metadata": {
    "collapsed": false
   }
  },
  {
   "cell_type": "code",
   "execution_count": 7,
   "outputs": [
    {
     "data": {
      "text/plain": "(1, 1)"
     },
     "execution_count": 7,
     "metadata": {},
     "output_type": "execute_result"
    }
   ],
   "source": [
    "worker_a.objects_count_remote(), worker_b.objects_count_remote()"
   ],
   "metadata": {
    "collapsed": false
   }
  },
  {
   "cell_type": "code",
   "execution_count": 8,
   "outputs": [
    {
     "name": "stdout",
     "output_type": "stream",
     "text": [
      "AA 26834778771\n",
      "User-AA sending start:2024-04-29 15:18:09.763421\n",
      "User-AA sending end:2024-04-29 15:18:10.462616\n",
      "BB 23109114026\n",
      "User-BB sending start:2024-04-29 15:18:10.462616\n",
      "User-BB sending end:2024-04-29 15:18:11.143782\n",
      "CC 34328767684\n",
      "User-CC sending start:2024-04-29 15:18:11.144383\n",
      "User-CC sending end:2024-04-29 15:18:11.822224\n",
      "DD 23144463686\n",
      "User-DD sending start:2024-04-29 15:18:11.822224\n",
      "User-DD sending end:2024-04-29 15:18:12.471078\n",
      "EE 92119353976\n",
      "User-EE sending start:2024-04-29 15:18:12.471078\n",
      "User-EE sending end:2024-04-29 15:18:13.120463\n",
      "3.357042\n"
     ]
    }
   ],
   "source": [
    "send_one_by_one()"
   ],
   "metadata": {
    "collapsed": false
   }
  },
  {
   "cell_type": "code",
   "execution_count": 9,
   "outputs": [
    {
     "data": {
      "text/plain": "(2, 2)"
     },
     "execution_count": 9,
     "metadata": {},
     "output_type": "execute_result"
    }
   ],
   "source": [
    "worker_a.objects_count_remote(), worker_b.objects_count_remote()"
   ],
   "metadata": {
    "collapsed": false
   }
  },
  {
   "cell_type": "code",
   "execution_count": 9,
   "outputs": [],
   "source": [],
   "metadata": {
    "collapsed": false
   }
  }
 ],
 "metadata": {
  "kernelspec": {
   "display_name": "Python 3",
   "language": "python",
   "name": "python3"
  },
  "language_info": {
   "codemirror_mode": {
    "name": "ipython",
    "version": 2
   },
   "file_extension": ".py",
   "mimetype": "text/x-python",
   "name": "python",
   "nbconvert_exporter": "python",
   "pygments_lexer": "ipython2",
   "version": "2.7.6"
  }
 },
 "nbformat": 4,
 "nbformat_minor": 0
}
